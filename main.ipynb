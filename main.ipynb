{
 "cells": [
  {
   "cell_type": "code",
   "execution_count": 20,
   "id": "initial_id",
   "metadata": {
    "collapsed": true,
    "ExecuteTime": {
     "end_time": "2024-05-25T15:58:55.458197Z",
     "start_time": "2024-05-25T15:58:55.451308900Z"
    }
   },
   "outputs": [],
   "source": [
    "from catch_data import *\n",
    "from tools import *\n",
    "from rules import *\n",
    "from catch_data import *"
   ]
  },
  {
   "cell_type": "code",
   "execution_count": 2,
   "outputs": [
    {
     "name": "stdout",
     "output_type": "stream",
     "text": [
      "借贷申请行为.xlsx success ['身份证号查询，近15天通过非银申请的次数', '身份证号查询，近3个月通过非银周末申请的业务线数量', '身份证号查询，近1个月通过非银周末申请的业务线数量', '身份证号查询，近15天通过非银周末申请的业务线数量', '身份证号查询，近15天通过非银周末申请的次数']\n",
      "共债分.xlsx success ['共债等级[1,10]', '共债分', '最近 30 天查询非银机构数', '最近 60 天查询非银机构数']\n",
      "反欺诈评分.xlsx success 反欺诈分\n",
      "在网时长.xlsx success 在网时长\n",
      "在网状态.xlsx success 在网状态\n",
      "当日借贷申请.xlsx success 在网状态\n",
      "\"['在网状态'] not in index\"\n",
      "斑马扩散.xlsx success ['斑马扩散风险等级', '关系网络平均风险等级']\n",
      "特殊名单.xlsx success ['是否存在疑似电商虚假交易风险', '是否存在疑似金融黑产风险', '是否存在疑似羊毛党风险', '是否存在疑似准入风险', '是否存在公开负面信息风险', '是否存在信贷欺诈风险', '是否存在信贷逾期风险', '是否存在异常聚集风险', '是否存在多头申请风险']\n",
      "现金贷信用分.xlsx success 现金贷分\n",
      "画像指标.xlsx success ['[0,6]等级越高近3月非免息的信用消费的金额越高', '[0,5]等级越高历史90天内逾期天数越久，信用等级越差', '[0,5]等级越高历史90天内逾期产品越多，履约等级越差', '[0,5]等级越高历史60天内逾期天数越久，信用等级越差', '[0,5]等级越高历史60天内逾期产品越多，履约等级越差', '[0,5]等级越高历史365天内逾期天数越久，信用等级越差', '[0,5]等级越高历史365天内逾期产品越多，履约等级越差', '[0,5]等级越高历史30天内逾期天数越久，信用等级越差', '[0,5]等级越高历史180天内逾期产品越多，履约等级越差', '[0,5]等级越高历史30天内逾期产品越多，履约等级越差', '[0,5]等级越高历史180天内逾期天数越久，信用等级越差']\n",
      "综合风险画像.xlsx success ['12月内手机号码申请命中互联网金融平台数', '圈团2风险等级V1']\n",
      "轩辕分.xlsx success 轩辕分\n",
      "还款等级.xlsx success [1,25]越大还款越强\n"
     ]
    }
   ],
   "source": [
    "merged_data=merge_dataframes('C:/Users/HP/Desktop/yto/项目测试路径/朴道数据')"
   ],
   "metadata": {
    "collapsed": false,
    "ExecuteTime": {
     "end_time": "2024-05-17T01:13:50.556881900Z",
     "start_time": "2024-05-17T01:12:53.996739900Z"
    }
   },
   "id": "2561c6249a68d016"
  },
  {
   "cell_type": "code",
   "execution_count": 28,
   "outputs": [],
   "source": [
    "strategy_result = strategy(merged_data.fillna(-1))"
   ],
   "metadata": {
    "collapsed": false,
    "ExecuteTime": {
     "end_time": "2024-05-17T01:27:08.038773400Z",
     "start_time": "2024-05-17T01:27:07.982977400Z"
    }
   },
   "id": "af0382ac1948cd08"
  },
  {
   "cell_type": "code",
   "execution_count": 21,
   "outputs": [
    {
     "ename": "NameError",
     "evalue": "name 'sepecialist_dict' is not defined",
     "output_type": "error",
     "traceback": [
      "\u001B[1;31m---------------------------------------------------------------------------\u001B[0m",
      "\u001B[1;31mNameError\u001B[0m                                 Traceback (most recent call last)",
      "Cell \u001B[1;32mIn[21], line 1\u001B[0m\n\u001B[1;32m----> 1\u001B[0m list_monitor(\u001B[38;5;124m'\u001B[39m\u001B[38;5;124meloan_user_code\u001B[39m\u001B[38;5;124m'\u001B[39m)\n",
      "File \u001B[1;32m~\\Desktop\\yto\\项目测试路径\\yto_riskmanage\\tools.py:195\u001B[0m, in \u001B[0;36mlist_monitor\u001B[1;34m(user_type)\u001B[0m\n\u001B[0;32m    193\u001B[0m os\u001B[38;5;241m.\u001B[39mmakedirs(\u001B[38;5;124mf\u001B[39m\u001B[38;5;124m'\u001B[39m\u001B[38;5;124mdata/result/监测结果/\u001B[39m\u001B[38;5;132;01m{\u001B[39;00muser_type\u001B[38;5;132;01m}\u001B[39;00m\u001B[38;5;124m'\u001B[39m, exist_ok\u001B[38;5;241m=\u001B[39m\u001B[38;5;28;01mTrue\u001B[39;00m)\n\u001B[0;32m    194\u001B[0m \u001B[38;5;28;01mwith\u001B[39;00m pd\u001B[38;5;241m.\u001B[39mExcelWriter(\u001B[38;5;124mf\u001B[39m\u001B[38;5;124m'\u001B[39m\u001B[38;5;124mdata/result/监测结果/\u001B[39m\u001B[38;5;132;01m{\u001B[39;00muser_type\u001B[38;5;132;01m}\u001B[39;00m\u001B[38;5;124m/个体名单异动.xlsx\u001B[39m\u001B[38;5;124m'\u001B[39m) \u001B[38;5;28;01mas\u001B[39;00m writer:\n\u001B[1;32m--> 195\u001B[0m     \u001B[38;5;28;01mfor\u001B[39;00m item \u001B[38;5;129;01min\u001B[39;00m sepecialist_dict\u001B[38;5;241m.\u001B[39mkeys():\n\u001B[0;32m    196\u001B[0m         \u001B[38;5;28mprint\u001B[39m(item)\n\u001B[0;32m    197\u001B[0m         data \u001B[38;5;241m=\u001B[39m pd\u001B[38;5;241m.\u001B[39mread_excel(\u001B[38;5;124mf\u001B[39m\u001B[38;5;124m'\u001B[39m\u001B[38;5;132;01m{\u001B[39;00mitem\u001B[38;5;132;01m}\u001B[39;00m\u001B[38;5;124m.xlsx\u001B[39m\u001B[38;5;124m'\u001B[39m)\n",
      "\u001B[1;31mNameError\u001B[0m: name 'sepecialist_dict' is not defined"
     ]
    }
   ],
   "source": [
    "list_monitor('eloan_user_code')"
   ],
   "metadata": {
    "collapsed": false,
    "ExecuteTime": {
     "end_time": "2024-05-25T15:59:27.598285500Z",
     "start_time": "2024-05-25T15:59:27.055105400Z"
    }
   },
   "id": "f94ecce1876bd674"
  },
  {
   "cell_type": "code",
   "execution_count": 10,
   "outputs": [
    {
     "data": {
      "text/plain": "      身份证号查询，近15天通过非银申请的次数  身份证号查询，近3个月通过非银周末申请的业务线数量  \\\n0                        1                          1   \n1                        0                          0   \n2                        0                          1   \n3                        0                          0   \n4                        0                          0   \n...                    ...                        ...   \n4714                     0                          0   \n4715                     0                          1   \n4716                     0                          1   \n4717                     2                          0   \n4718                     0                          1   \n\n      身份证号查询，近1个月通过非银周末申请的业务线数量  身份证号查询，近15天通过非银周末申请的业务线数量  \\\n0                             1                          0   \n1                             0                          0   \n2                             0                          0   \n3                             0                          0   \n4                             0                          0   \n...                         ...                        ...   \n4714                          0                          0   \n4715                          0                          0   \n4716                          0                          0   \n4717                          0                          0   \n4718                          1                          0   \n\n      身份证号查询，近15天通过非银周末申请的次数                 身份证  共债等级[1,10]    共债分  \\\n0                          0  110102199002263045         5.0  38.86   \n1                          0  110103197506140038         4.0  22.78   \n2                          0  110103198511190034         4.0  19.81   \n3                          0  11010519811016361X        -1.0  -1.00   \n4                          0  110107198706111215         6.0  50.92   \n...                      ...                 ...         ...    ...   \n4714                       0  654126198612090511         4.0  24.21   \n4715                       0  654221196308150035         5.0  37.91   \n4716                       0  654321198909220013        -1.0  -1.00   \n4717                       0  654324198803021015         9.0  73.78   \n4718                       0  659001199212103412         9.0  73.51   \n\n      最近 30 天查询非银机构数  最近 60 天查询非银机构数  ...  [0,5]等级越高历史365天内逾期天数越久，信用等级越差  \\\n0                0.0             0.0  ...                            2.0   \n1                0.0             0.0  ...                            0.0   \n2                0.0             0.0  ...                            1.0   \n3               -1.0            -1.0  ...                            0.0   \n4                0.0             0.0  ...                           -1.0   \n...              ...             ...  ...                            ...   \n4714             1.0             1.0  ...                            1.0   \n4715             0.0             0.0  ...                           -1.0   \n4716            -1.0            -1.0  ...                            0.0   \n4717             0.0             0.0  ...                            1.0   \n4718             0.0             0.0  ...                            3.0   \n\n      [0,5]等级越高历史365天内逾期产品越多，履约等级越差  [0,5]等级越高历史30天内逾期天数越久，信用等级越差  \\\n0                               2.0                           1.0   \n1                               0.0                           0.0   \n2                               1.0                           1.0   \n3                               0.0                           0.0   \n4                              -1.0                          -1.0   \n...                             ...                           ...   \n4714                            1.0                           1.0   \n4715                           -1.0                          -1.0   \n4716                            0.0                           0.0   \n4717                            1.0                           1.0   \n4718                            3.0                           3.0   \n\n      [0,5]等级越高历史180天内逾期产品越多，履约等级越差  [0,5]等级越高历史30天内逾期产品越多，履约等级越差  \\\n0                               2.0                           1.0   \n1                               0.0                           0.0   \n2                               1.0                           1.0   \n3                               0.0                           0.0   \n4                              -1.0                          -1.0   \n...                             ...                           ...   \n4714                            1.0                           1.0   \n4715                           -1.0                          -1.0   \n4716                            0.0                           0.0   \n4717                            1.0                           1.0   \n4718                            3.0                           3.0   \n\n      [0,5]等级越高历史180天内逾期天数越久，信用等级越差  12月内手机号码申请命中互联网金融平台数  圈团2风险等级V1     轩辕分  \\\n0                               2.0                    -1          2  691.03   \n1                               0.0                    -1          2  644.27   \n2                               1.0                    -1         -1  793.05   \n3                               0.0                    -1         -1  665.03   \n4                              -1.0                     2         -1  539.34   \n...                             ...                   ...        ...     ...   \n4714                            1.0                     1         -1  722.54   \n4715                           -1.0                    -1         -1  578.28   \n4716                            0.0                    -1         -1  645.73   \n4717                            1.0                     4         -1  650.22   \n4718                            3.0                     3         -1  350.00   \n\n      [1,25]越大还款越强  \n0              1.0  \n1              6.0  \n2              4.0  \n3              9.0  \n4              4.0  \n...            ...  \n4714           6.0  \n4715          -1.0  \n4716           4.0  \n4717           7.0  \n4718           1.0  \n\n[4719 rows x 40 columns]",
      "text/html": "<div>\n<style scoped>\n    .dataframe tbody tr th:only-of-type {\n        vertical-align: middle;\n    }\n\n    .dataframe tbody tr th {\n        vertical-align: top;\n    }\n\n    .dataframe thead th {\n        text-align: right;\n    }\n</style>\n<table border=\"1\" class=\"dataframe\">\n  <thead>\n    <tr style=\"text-align: right;\">\n      <th></th>\n      <th>身份证号查询，近15天通过非银申请的次数</th>\n      <th>身份证号查询，近3个月通过非银周末申请的业务线数量</th>\n      <th>身份证号查询，近1个月通过非银周末申请的业务线数量</th>\n      <th>身份证号查询，近15天通过非银周末申请的业务线数量</th>\n      <th>身份证号查询，近15天通过非银周末申请的次数</th>\n      <th>身份证</th>\n      <th>共债等级[1,10]</th>\n      <th>共债分</th>\n      <th>最近 30 天查询非银机构数</th>\n      <th>最近 60 天查询非银机构数</th>\n      <th>...</th>\n      <th>[0,5]等级越高历史365天内逾期天数越久，信用等级越差</th>\n      <th>[0,5]等级越高历史365天内逾期产品越多，履约等级越差</th>\n      <th>[0,5]等级越高历史30天内逾期天数越久，信用等级越差</th>\n      <th>[0,5]等级越高历史180天内逾期产品越多，履约等级越差</th>\n      <th>[0,5]等级越高历史30天内逾期产品越多，履约等级越差</th>\n      <th>[0,5]等级越高历史180天内逾期天数越久，信用等级越差</th>\n      <th>12月内手机号码申请命中互联网金融平台数</th>\n      <th>圈团2风险等级V1</th>\n      <th>轩辕分</th>\n      <th>[1,25]越大还款越强</th>\n    </tr>\n  </thead>\n  <tbody>\n    <tr>\n      <th>0</th>\n      <td>1</td>\n      <td>1</td>\n      <td>1</td>\n      <td>0</td>\n      <td>0</td>\n      <td>110102199002263045</td>\n      <td>5.0</td>\n      <td>38.86</td>\n      <td>0.0</td>\n      <td>0.0</td>\n      <td>...</td>\n      <td>2.0</td>\n      <td>2.0</td>\n      <td>1.0</td>\n      <td>2.0</td>\n      <td>1.0</td>\n      <td>2.0</td>\n      <td>-1</td>\n      <td>2</td>\n      <td>691.03</td>\n      <td>1.0</td>\n    </tr>\n    <tr>\n      <th>1</th>\n      <td>0</td>\n      <td>0</td>\n      <td>0</td>\n      <td>0</td>\n      <td>0</td>\n      <td>110103197506140038</td>\n      <td>4.0</td>\n      <td>22.78</td>\n      <td>0.0</td>\n      <td>0.0</td>\n      <td>...</td>\n      <td>0.0</td>\n      <td>0.0</td>\n      <td>0.0</td>\n      <td>0.0</td>\n      <td>0.0</td>\n      <td>0.0</td>\n      <td>-1</td>\n      <td>2</td>\n      <td>644.27</td>\n      <td>6.0</td>\n    </tr>\n    <tr>\n      <th>2</th>\n      <td>0</td>\n      <td>1</td>\n      <td>0</td>\n      <td>0</td>\n      <td>0</td>\n      <td>110103198511190034</td>\n      <td>4.0</td>\n      <td>19.81</td>\n      <td>0.0</td>\n      <td>0.0</td>\n      <td>...</td>\n      <td>1.0</td>\n      <td>1.0</td>\n      <td>1.0</td>\n      <td>1.0</td>\n      <td>1.0</td>\n      <td>1.0</td>\n      <td>-1</td>\n      <td>-1</td>\n      <td>793.05</td>\n      <td>4.0</td>\n    </tr>\n    <tr>\n      <th>3</th>\n      <td>0</td>\n      <td>0</td>\n      <td>0</td>\n      <td>0</td>\n      <td>0</td>\n      <td>11010519811016361X</td>\n      <td>-1.0</td>\n      <td>-1.00</td>\n      <td>-1.0</td>\n      <td>-1.0</td>\n      <td>...</td>\n      <td>0.0</td>\n      <td>0.0</td>\n      <td>0.0</td>\n      <td>0.0</td>\n      <td>0.0</td>\n      <td>0.0</td>\n      <td>-1</td>\n      <td>-1</td>\n      <td>665.03</td>\n      <td>9.0</td>\n    </tr>\n    <tr>\n      <th>4</th>\n      <td>0</td>\n      <td>0</td>\n      <td>0</td>\n      <td>0</td>\n      <td>0</td>\n      <td>110107198706111215</td>\n      <td>6.0</td>\n      <td>50.92</td>\n      <td>0.0</td>\n      <td>0.0</td>\n      <td>...</td>\n      <td>-1.0</td>\n      <td>-1.0</td>\n      <td>-1.0</td>\n      <td>-1.0</td>\n      <td>-1.0</td>\n      <td>-1.0</td>\n      <td>2</td>\n      <td>-1</td>\n      <td>539.34</td>\n      <td>4.0</td>\n    </tr>\n    <tr>\n      <th>...</th>\n      <td>...</td>\n      <td>...</td>\n      <td>...</td>\n      <td>...</td>\n      <td>...</td>\n      <td>...</td>\n      <td>...</td>\n      <td>...</td>\n      <td>...</td>\n      <td>...</td>\n      <td>...</td>\n      <td>...</td>\n      <td>...</td>\n      <td>...</td>\n      <td>...</td>\n      <td>...</td>\n      <td>...</td>\n      <td>...</td>\n      <td>...</td>\n      <td>...</td>\n      <td>...</td>\n    </tr>\n    <tr>\n      <th>4714</th>\n      <td>0</td>\n      <td>0</td>\n      <td>0</td>\n      <td>0</td>\n      <td>0</td>\n      <td>654126198612090511</td>\n      <td>4.0</td>\n      <td>24.21</td>\n      <td>1.0</td>\n      <td>1.0</td>\n      <td>...</td>\n      <td>1.0</td>\n      <td>1.0</td>\n      <td>1.0</td>\n      <td>1.0</td>\n      <td>1.0</td>\n      <td>1.0</td>\n      <td>1</td>\n      <td>-1</td>\n      <td>722.54</td>\n      <td>6.0</td>\n    </tr>\n    <tr>\n      <th>4715</th>\n      <td>0</td>\n      <td>1</td>\n      <td>0</td>\n      <td>0</td>\n      <td>0</td>\n      <td>654221196308150035</td>\n      <td>5.0</td>\n      <td>37.91</td>\n      <td>0.0</td>\n      <td>0.0</td>\n      <td>...</td>\n      <td>-1.0</td>\n      <td>-1.0</td>\n      <td>-1.0</td>\n      <td>-1.0</td>\n      <td>-1.0</td>\n      <td>-1.0</td>\n      <td>-1</td>\n      <td>-1</td>\n      <td>578.28</td>\n      <td>-1.0</td>\n    </tr>\n    <tr>\n      <th>4716</th>\n      <td>0</td>\n      <td>1</td>\n      <td>0</td>\n      <td>0</td>\n      <td>0</td>\n      <td>654321198909220013</td>\n      <td>-1.0</td>\n      <td>-1.00</td>\n      <td>-1.0</td>\n      <td>-1.0</td>\n      <td>...</td>\n      <td>0.0</td>\n      <td>0.0</td>\n      <td>0.0</td>\n      <td>0.0</td>\n      <td>0.0</td>\n      <td>0.0</td>\n      <td>-1</td>\n      <td>-1</td>\n      <td>645.73</td>\n      <td>4.0</td>\n    </tr>\n    <tr>\n      <th>4717</th>\n      <td>2</td>\n      <td>0</td>\n      <td>0</td>\n      <td>0</td>\n      <td>0</td>\n      <td>654324198803021015</td>\n      <td>9.0</td>\n      <td>73.78</td>\n      <td>0.0</td>\n      <td>0.0</td>\n      <td>...</td>\n      <td>1.0</td>\n      <td>1.0</td>\n      <td>1.0</td>\n      <td>1.0</td>\n      <td>1.0</td>\n      <td>1.0</td>\n      <td>4</td>\n      <td>-1</td>\n      <td>650.22</td>\n      <td>7.0</td>\n    </tr>\n    <tr>\n      <th>4718</th>\n      <td>0</td>\n      <td>1</td>\n      <td>1</td>\n      <td>0</td>\n      <td>0</td>\n      <td>659001199212103412</td>\n      <td>9.0</td>\n      <td>73.51</td>\n      <td>0.0</td>\n      <td>0.0</td>\n      <td>...</td>\n      <td>3.0</td>\n      <td>3.0</td>\n      <td>3.0</td>\n      <td>3.0</td>\n      <td>3.0</td>\n      <td>3.0</td>\n      <td>3</td>\n      <td>-1</td>\n      <td>350.00</td>\n      <td>1.0</td>\n    </tr>\n  </tbody>\n</table>\n<p>4719 rows × 40 columns</p>\n</div>"
     },
     "execution_count": 10,
     "metadata": {},
     "output_type": "execute_result"
    }
   ],
   "source": [
    "merged_data"
   ],
   "metadata": {
    "collapsed": false,
    "ExecuteTime": {
     "end_time": "2024-05-17T01:18:19.559943700Z",
     "start_time": "2024-05-17T01:18:19.543078500Z"
    }
   },
   "id": "4f7ef78e752b2802"
  },
  {
   "cell_type": "code",
   "execution_count": 8,
   "outputs": [
    {
     "data": {
      "text/plain": "      身份证号查询，近15天通过非银申请的次数  身份证号查询，近3个月通过非银周末申请的业务线数量  \\\n0                        1                          1   \n1                        0                          0   \n2                        0                          1   \n3                        0                          0   \n4                        0                          0   \n...                    ...                        ...   \n4714                     0                          0   \n4715                     0                          1   \n4716                     0                          1   \n4717                     2                          0   \n4718                     0                          1   \n\n      身份证号查询，近1个月通过非银周末申请的业务线数量  身份证号查询，近15天通过非银周末申请的业务线数量  \\\n0                             1                          0   \n1                             0                          0   \n2                             0                          0   \n3                             0                          0   \n4                             0                          0   \n...                         ...                        ...   \n4714                          0                          0   \n4715                          0                          0   \n4716                          0                          0   \n4717                          0                          0   \n4718                          1                          0   \n\n      身份证号查询，近15天通过非银周末申请的次数                 身份证  共债等级[1,10]    共债分  \\\n0                          0  110102199002263045         5.0  38.86   \n1                          0  110103197506140038         4.0  22.78   \n2                          0  110103198511190034         4.0  19.81   \n3                          0  11010519811016361X        -1.0  -1.00   \n4                          0  110107198706111215         6.0  50.92   \n...                      ...                 ...         ...    ...   \n4714                       0  654126198612090511         4.0  24.21   \n4715                       0  654221196308150035         5.0  37.91   \n4716                       0  654321198909220013        -1.0  -1.00   \n4717                       0  654324198803021015         9.0  73.78   \n4718                       0  659001199212103412         9.0  73.51   \n\n      最近 30 天查询非银机构数  最近 60 天查询非银机构数  ...  [0,5]等级越高历史365天内逾期天数越久，信用等级越差  \\\n0                0.0             0.0  ...                            2.0   \n1                0.0             0.0  ...                            0.0   \n2                0.0             0.0  ...                            1.0   \n3               -1.0            -1.0  ...                            0.0   \n4                0.0             0.0  ...                           -1.0   \n...              ...             ...  ...                            ...   \n4714             1.0             1.0  ...                            1.0   \n4715             0.0             0.0  ...                           -1.0   \n4716            -1.0            -1.0  ...                            0.0   \n4717             0.0             0.0  ...                            1.0   \n4718             0.0             0.0  ...                            3.0   \n\n      [0,5]等级越高历史365天内逾期产品越多，履约等级越差  [0,5]等级越高历史30天内逾期天数越久，信用等级越差  \\\n0                               2.0                           1.0   \n1                               0.0                           0.0   \n2                               1.0                           1.0   \n3                               0.0                           0.0   \n4                              -1.0                          -1.0   \n...                             ...                           ...   \n4714                            1.0                           1.0   \n4715                           -1.0                          -1.0   \n4716                            0.0                           0.0   \n4717                            1.0                           1.0   \n4718                            3.0                           3.0   \n\n      [0,5]等级越高历史180天内逾期产品越多，履约等级越差  [0,5]等级越高历史30天内逾期产品越多，履约等级越差  \\\n0                               2.0                           1.0   \n1                               0.0                           0.0   \n2                               1.0                           1.0   \n3                               0.0                           0.0   \n4                              -1.0                          -1.0   \n...                             ...                           ...   \n4714                            1.0                           1.0   \n4715                           -1.0                          -1.0   \n4716                            0.0                           0.0   \n4717                            1.0                           1.0   \n4718                            3.0                           3.0   \n\n      [0,5]等级越高历史180天内逾期天数越久，信用等级越差  12月内手机号码申请命中互联网金融平台数  圈团2风险等级V1     轩辕分  \\\n0                               2.0                    -1          2  691.03   \n1                               0.0                    -1          2  644.27   \n2                               1.0                    -1         -1  793.05   \n3                               0.0                    -1         -1  665.03   \n4                              -1.0                     2         -1  539.34   \n...                             ...                   ...        ...     ...   \n4714                            1.0                     1         -1  722.54   \n4715                           -1.0                    -1         -1  578.28   \n4716                            0.0                    -1         -1  645.73   \n4717                            1.0                     4         -1  650.22   \n4718                            3.0                     3         -1  350.00   \n\n      [1,25]越大还款越强  \n0              1.0  \n1              6.0  \n2              4.0  \n3              9.0  \n4              4.0  \n...            ...  \n4714           6.0  \n4715          -1.0  \n4716           4.0  \n4717           7.0  \n4718           1.0  \n\n[4719 rows x 40 columns]",
      "text/html": "<div>\n<style scoped>\n    .dataframe tbody tr th:only-of-type {\n        vertical-align: middle;\n    }\n\n    .dataframe tbody tr th {\n        vertical-align: top;\n    }\n\n    .dataframe thead th {\n        text-align: right;\n    }\n</style>\n<table border=\"1\" class=\"dataframe\">\n  <thead>\n    <tr style=\"text-align: right;\">\n      <th></th>\n      <th>身份证号查询，近15天通过非银申请的次数</th>\n      <th>身份证号查询，近3个月通过非银周末申请的业务线数量</th>\n      <th>身份证号查询，近1个月通过非银周末申请的业务线数量</th>\n      <th>身份证号查询，近15天通过非银周末申请的业务线数量</th>\n      <th>身份证号查询，近15天通过非银周末申请的次数</th>\n      <th>身份证</th>\n      <th>共债等级[1,10]</th>\n      <th>共债分</th>\n      <th>最近 30 天查询非银机构数</th>\n      <th>最近 60 天查询非银机构数</th>\n      <th>...</th>\n      <th>[0,5]等级越高历史365天内逾期天数越久，信用等级越差</th>\n      <th>[0,5]等级越高历史365天内逾期产品越多，履约等级越差</th>\n      <th>[0,5]等级越高历史30天内逾期天数越久，信用等级越差</th>\n      <th>[0,5]等级越高历史180天内逾期产品越多，履约等级越差</th>\n      <th>[0,5]等级越高历史30天内逾期产品越多，履约等级越差</th>\n      <th>[0,5]等级越高历史180天内逾期天数越久，信用等级越差</th>\n      <th>12月内手机号码申请命中互联网金融平台数</th>\n      <th>圈团2风险等级V1</th>\n      <th>轩辕分</th>\n      <th>[1,25]越大还款越强</th>\n    </tr>\n  </thead>\n  <tbody>\n    <tr>\n      <th>0</th>\n      <td>1</td>\n      <td>1</td>\n      <td>1</td>\n      <td>0</td>\n      <td>0</td>\n      <td>110102199002263045</td>\n      <td>5.0</td>\n      <td>38.86</td>\n      <td>0.0</td>\n      <td>0.0</td>\n      <td>...</td>\n      <td>2.0</td>\n      <td>2.0</td>\n      <td>1.0</td>\n      <td>2.0</td>\n      <td>1.0</td>\n      <td>2.0</td>\n      <td>-1</td>\n      <td>2</td>\n      <td>691.03</td>\n      <td>1.0</td>\n    </tr>\n    <tr>\n      <th>1</th>\n      <td>0</td>\n      <td>0</td>\n      <td>0</td>\n      <td>0</td>\n      <td>0</td>\n      <td>110103197506140038</td>\n      <td>4.0</td>\n      <td>22.78</td>\n      <td>0.0</td>\n      <td>0.0</td>\n      <td>...</td>\n      <td>0.0</td>\n      <td>0.0</td>\n      <td>0.0</td>\n      <td>0.0</td>\n      <td>0.0</td>\n      <td>0.0</td>\n      <td>-1</td>\n      <td>2</td>\n      <td>644.27</td>\n      <td>6.0</td>\n    </tr>\n    <tr>\n      <th>2</th>\n      <td>0</td>\n      <td>1</td>\n      <td>0</td>\n      <td>0</td>\n      <td>0</td>\n      <td>110103198511190034</td>\n      <td>4.0</td>\n      <td>19.81</td>\n      <td>0.0</td>\n      <td>0.0</td>\n      <td>...</td>\n      <td>1.0</td>\n      <td>1.0</td>\n      <td>1.0</td>\n      <td>1.0</td>\n      <td>1.0</td>\n      <td>1.0</td>\n      <td>-1</td>\n      <td>-1</td>\n      <td>793.05</td>\n      <td>4.0</td>\n    </tr>\n    <tr>\n      <th>3</th>\n      <td>0</td>\n      <td>0</td>\n      <td>0</td>\n      <td>0</td>\n      <td>0</td>\n      <td>11010519811016361X</td>\n      <td>-1.0</td>\n      <td>-1.00</td>\n      <td>-1.0</td>\n      <td>-1.0</td>\n      <td>...</td>\n      <td>0.0</td>\n      <td>0.0</td>\n      <td>0.0</td>\n      <td>0.0</td>\n      <td>0.0</td>\n      <td>0.0</td>\n      <td>-1</td>\n      <td>-1</td>\n      <td>665.03</td>\n      <td>9.0</td>\n    </tr>\n    <tr>\n      <th>4</th>\n      <td>0</td>\n      <td>0</td>\n      <td>0</td>\n      <td>0</td>\n      <td>0</td>\n      <td>110107198706111215</td>\n      <td>6.0</td>\n      <td>50.92</td>\n      <td>0.0</td>\n      <td>0.0</td>\n      <td>...</td>\n      <td>-1.0</td>\n      <td>-1.0</td>\n      <td>-1.0</td>\n      <td>-1.0</td>\n      <td>-1.0</td>\n      <td>-1.0</td>\n      <td>2</td>\n      <td>-1</td>\n      <td>539.34</td>\n      <td>4.0</td>\n    </tr>\n    <tr>\n      <th>...</th>\n      <td>...</td>\n      <td>...</td>\n      <td>...</td>\n      <td>...</td>\n      <td>...</td>\n      <td>...</td>\n      <td>...</td>\n      <td>...</td>\n      <td>...</td>\n      <td>...</td>\n      <td>...</td>\n      <td>...</td>\n      <td>...</td>\n      <td>...</td>\n      <td>...</td>\n      <td>...</td>\n      <td>...</td>\n      <td>...</td>\n      <td>...</td>\n      <td>...</td>\n      <td>...</td>\n    </tr>\n    <tr>\n      <th>4714</th>\n      <td>0</td>\n      <td>0</td>\n      <td>0</td>\n      <td>0</td>\n      <td>0</td>\n      <td>654126198612090511</td>\n      <td>4.0</td>\n      <td>24.21</td>\n      <td>1.0</td>\n      <td>1.0</td>\n      <td>...</td>\n      <td>1.0</td>\n      <td>1.0</td>\n      <td>1.0</td>\n      <td>1.0</td>\n      <td>1.0</td>\n      <td>1.0</td>\n      <td>1</td>\n      <td>-1</td>\n      <td>722.54</td>\n      <td>6.0</td>\n    </tr>\n    <tr>\n      <th>4715</th>\n      <td>0</td>\n      <td>1</td>\n      <td>0</td>\n      <td>0</td>\n      <td>0</td>\n      <td>654221196308150035</td>\n      <td>5.0</td>\n      <td>37.91</td>\n      <td>0.0</td>\n      <td>0.0</td>\n      <td>...</td>\n      <td>-1.0</td>\n      <td>-1.0</td>\n      <td>-1.0</td>\n      <td>-1.0</td>\n      <td>-1.0</td>\n      <td>-1.0</td>\n      <td>-1</td>\n      <td>-1</td>\n      <td>578.28</td>\n      <td>-1.0</td>\n    </tr>\n    <tr>\n      <th>4716</th>\n      <td>0</td>\n      <td>1</td>\n      <td>0</td>\n      <td>0</td>\n      <td>0</td>\n      <td>654321198909220013</td>\n      <td>-1.0</td>\n      <td>-1.00</td>\n      <td>-1.0</td>\n      <td>-1.0</td>\n      <td>...</td>\n      <td>0.0</td>\n      <td>0.0</td>\n      <td>0.0</td>\n      <td>0.0</td>\n      <td>0.0</td>\n      <td>0.0</td>\n      <td>-1</td>\n      <td>-1</td>\n      <td>645.73</td>\n      <td>4.0</td>\n    </tr>\n    <tr>\n      <th>4717</th>\n      <td>2</td>\n      <td>0</td>\n      <td>0</td>\n      <td>0</td>\n      <td>0</td>\n      <td>654324198803021015</td>\n      <td>9.0</td>\n      <td>73.78</td>\n      <td>0.0</td>\n      <td>0.0</td>\n      <td>...</td>\n      <td>1.0</td>\n      <td>1.0</td>\n      <td>1.0</td>\n      <td>1.0</td>\n      <td>1.0</td>\n      <td>1.0</td>\n      <td>4</td>\n      <td>-1</td>\n      <td>650.22</td>\n      <td>7.0</td>\n    </tr>\n    <tr>\n      <th>4718</th>\n      <td>0</td>\n      <td>1</td>\n      <td>1</td>\n      <td>0</td>\n      <td>0</td>\n      <td>659001199212103412</td>\n      <td>9.0</td>\n      <td>73.51</td>\n      <td>0.0</td>\n      <td>0.0</td>\n      <td>...</td>\n      <td>3.0</td>\n      <td>3.0</td>\n      <td>3.0</td>\n      <td>3.0</td>\n      <td>3.0</td>\n      <td>3.0</td>\n      <td>3</td>\n      <td>-1</td>\n      <td>350.00</td>\n      <td>1.0</td>\n    </tr>\n  </tbody>\n</table>\n<p>4719 rows × 40 columns</p>\n</div>"
     },
     "execution_count": 8,
     "metadata": {},
     "output_type": "execute_result"
    }
   ],
   "source": [
    "merged_data"
   ],
   "metadata": {
    "collapsed": false,
    "ExecuteTime": {
     "end_time": "2024-05-17T01:17:39.602499800Z",
     "start_time": "2024-05-17T01:17:39.574433500Z"
    }
   },
   "id": "66f569a983bc592d"
  },
  {
   "cell_type": "code",
   "execution_count": 25,
   "outputs": [
    {
     "data": {
      "text/plain": "0       0.0\n1       0.0\n2       0.0\n3       0.0\n4       0.0\n       ... \n4714    0.0\n4715    0.0\n4716    0.0\n4717    0.0\n4718    0.0\nLength: 4719, dtype: float64"
     },
     "execution_count": 25,
     "metadata": {},
     "output_type": "execute_result"
    }
   ],
   "source": [
    "data_to_score(merged_data.fillna(-1))"
   ],
   "metadata": {
    "collapsed": false,
    "ExecuteTime": {
     "end_time": "2024-05-17T00:49:12.269273400Z",
     "start_time": "2024-05-17T00:49:12.258892200Z"
    }
   },
   "id": "1c11f453ffc2affa"
  },
  {
   "cell_type": "code",
   "execution_count": 15,
   "outputs": [
    {
     "data": {
      "text/plain": "0       0.0\n1       0.0\n2       0.0\n3       0.0\n4       0.0\n       ... \n4714    0.0\n4715    0.0\n4716    0.0\n4717    0.0\n4718    0.0\nName: 评分模型, Length: 4719, dtype: float64"
     },
     "execution_count": 15,
     "metadata": {},
     "output_type": "execute_result"
    }
   ],
   "source": [
    "strategy_result['评分模型']"
   ],
   "metadata": {
    "collapsed": false,
    "ExecuteTime": {
     "end_time": "2024-05-17T00:46:14.370611900Z",
     "start_time": "2024-05-17T00:46:14.365014600Z"
    }
   },
   "id": "2290f44a3ea91761"
  }
 ],
 "metadata": {
  "kernelspec": {
   "display_name": "Python 3",
   "language": "python",
   "name": "python3"
  },
  "language_info": {
   "codemirror_mode": {
    "name": "ipython",
    "version": 2
   },
   "file_extension": ".py",
   "mimetype": "text/x-python",
   "name": "python",
   "nbconvert_exporter": "python",
   "pygments_lexer": "ipython2",
   "version": "2.7.6"
  }
 },
 "nbformat": 4,
 "nbformat_minor": 5
}
